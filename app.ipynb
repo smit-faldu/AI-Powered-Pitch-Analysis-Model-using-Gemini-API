{
  "cells": [
    {
      "cell_type": "code",
      "execution_count": 3,
      "metadata": {
        "colab": {
          "base_uri": "https://localhost:8080/"
        },
        "id": "4E1OwJPKaiEN",
        "outputId": "62456757-86a3-45dc-b56d-c57eb9a3d504"
      },
      "outputs": [
        {
          "name": "stdout",
          "output_type": "stream",
          "text": [
            "Requirement already satisfied: flask in d:\\python ml\\internship task\\ai-powered pitch analysis model using gemini api\\.venv\\lib\\site-packages (3.1.0)\n",
            "Requirement already satisfied: flask-cors in d:\\python ml\\internship task\\ai-powered pitch analysis model using gemini api\\.venv\\lib\\site-packages (5.0.1)\n",
            "Requirement already satisfied: langchain_google_genai in d:\\python ml\\internship task\\ai-powered pitch analysis model using gemini api\\.venv\\lib\\site-packages (2.1.0)\n",
            "Requirement already satisfied: PyMuPDF in d:\\python ml\\internship task\\ai-powered pitch analysis model using gemini api\\.venv\\lib\\site-packages (1.25.4)\n",
            "Requirement already satisfied: werkzeug in d:\\python ml\\internship task\\ai-powered pitch analysis model using gemini api\\.venv\\lib\\site-packages (3.1.3)\n",
            "Collecting langchain\n",
            "  Downloading langchain-0.3.21-py3-none-any.whl.metadata (7.8 kB)\n",
            "Requirement already satisfied: Jinja2>=3.1.2 in d:\\python ml\\internship task\\ai-powered pitch analysis model using gemini api\\.venv\\lib\\site-packages (from flask) (3.1.6)\n",
            "Requirement already satisfied: itsdangerous>=2.2 in d:\\python ml\\internship task\\ai-powered pitch analysis model using gemini api\\.venv\\lib\\site-packages (from flask) (2.2.0)\n",
            "Requirement already satisfied: click>=8.1.3 in d:\\python ml\\internship task\\ai-powered pitch analysis model using gemini api\\.venv\\lib\\site-packages (from flask) (8.1.8)\n",
            "Requirement already satisfied: blinker>=1.9 in d:\\python ml\\internship task\\ai-powered pitch analysis model using gemini api\\.venv\\lib\\site-packages (from flask) (1.9.0)\n",
            "Requirement already satisfied: filetype<2.0.0,>=1.2.0 in d:\\python ml\\internship task\\ai-powered pitch analysis model using gemini api\\.venv\\lib\\site-packages (from langchain_google_genai) (1.2.0)\n",
            "Requirement already satisfied: google-ai-generativelanguage<0.7.0,>=0.6.16 in d:\\python ml\\internship task\\ai-powered pitch analysis model using gemini api\\.venv\\lib\\site-packages (from langchain_google_genai) (0.6.17)\n",
            "Requirement already satisfied: langchain-core<0.4.0,>=0.3.43 in d:\\python ml\\internship task\\ai-powered pitch analysis model using gemini api\\.venv\\lib\\site-packages (from langchain_google_genai) (0.3.47)\n",
            "Requirement already satisfied: pydantic<3,>=2 in d:\\python ml\\internship task\\ai-powered pitch analysis model using gemini api\\.venv\\lib\\site-packages (from langchain_google_genai) (2.10.6)\n",
            "Requirement already satisfied: MarkupSafe>=2.1.1 in d:\\python ml\\internship task\\ai-powered pitch analysis model using gemini api\\.venv\\lib\\site-packages (from werkzeug) (3.0.2)\n",
            "Collecting langchain-text-splitters<1.0.0,>=0.3.7 (from langchain)\n",
            "  Downloading langchain_text_splitters-0.3.7-py3-none-any.whl.metadata (1.9 kB)\n",
            "Requirement already satisfied: langsmith<0.4,>=0.1.17 in d:\\python ml\\internship task\\ai-powered pitch analysis model using gemini api\\.venv\\lib\\site-packages (from langchain) (0.3.18)\n",
            "Collecting SQLAlchemy<3,>=1.4 (from langchain)\n",
            "  Downloading sqlalchemy-2.0.39-cp312-cp312-win_amd64.whl.metadata (9.9 kB)\n",
            "Requirement already satisfied: requests<3,>=2 in d:\\python ml\\internship task\\ai-powered pitch analysis model using gemini api\\.venv\\lib\\site-packages (from langchain) (2.32.3)\n",
            "Requirement already satisfied: PyYAML>=5.3 in d:\\python ml\\internship task\\ai-powered pitch analysis model using gemini api\\.venv\\lib\\site-packages (from langchain) (6.0.2)\n",
            "Requirement already satisfied: colorama in d:\\python ml\\internship task\\ai-powered pitch analysis model using gemini api\\.venv\\lib\\site-packages (from click>=8.1.3->flask) (0.4.6)\n",
            "Requirement already satisfied: google-api-core!=2.0.*,!=2.1.*,!=2.10.*,!=2.2.*,!=2.3.*,!=2.4.*,!=2.5.*,!=2.6.*,!=2.7.*,!=2.8.*,!=2.9.*,<3.0.0,>=1.34.1 in d:\\python ml\\internship task\\ai-powered pitch analysis model using gemini api\\.venv\\lib\\site-packages (from google-api-core[grpc]!=2.0.*,!=2.1.*,!=2.10.*,!=2.2.*,!=2.3.*,!=2.4.*,!=2.5.*,!=2.6.*,!=2.7.*,!=2.8.*,!=2.9.*,<3.0.0,>=1.34.1->google-ai-generativelanguage<0.7.0,>=0.6.16->langchain_google_genai) (2.24.2)\n",
            "Requirement already satisfied: google-auth!=2.24.0,!=2.25.0,<3.0.0,>=2.14.1 in d:\\python ml\\internship task\\ai-powered pitch analysis model using gemini api\\.venv\\lib\\site-packages (from google-ai-generativelanguage<0.7.0,>=0.6.16->langchain_google_genai) (2.38.0)\n",
            "Requirement already satisfied: proto-plus<2.0.0,>=1.22.3 in d:\\python ml\\internship task\\ai-powered pitch analysis model using gemini api\\.venv\\lib\\site-packages (from google-ai-generativelanguage<0.7.0,>=0.6.16->langchain_google_genai) (1.26.1)\n",
            "Requirement already satisfied: protobuf!=4.21.0,!=4.21.1,!=4.21.2,!=4.21.3,!=4.21.4,!=4.21.5,<7.0.0,>=3.20.2 in d:\\python ml\\internship task\\ai-powered pitch analysis model using gemini api\\.venv\\lib\\site-packages (from google-ai-generativelanguage<0.7.0,>=0.6.16->langchain_google_genai) (5.29.4)\n",
            "Requirement already satisfied: tenacity!=8.4.0,<10.0.0,>=8.1.0 in d:\\python ml\\internship task\\ai-powered pitch analysis model using gemini api\\.venv\\lib\\site-packages (from langchain-core<0.4.0,>=0.3.43->langchain_google_genai) (9.0.0)\n",
            "Requirement already satisfied: jsonpatch<2.0,>=1.33 in d:\\python ml\\internship task\\ai-powered pitch analysis model using gemini api\\.venv\\lib\\site-packages (from langchain-core<0.4.0,>=0.3.43->langchain_google_genai) (1.33)\n",
            "Requirement already satisfied: packaging<25,>=23.2 in d:\\python ml\\internship task\\ai-powered pitch analysis model using gemini api\\.venv\\lib\\site-packages (from langchain-core<0.4.0,>=0.3.43->langchain_google_genai) (24.2)\n",
            "Requirement already satisfied: typing-extensions>=4.7 in d:\\python ml\\internship task\\ai-powered pitch analysis model using gemini api\\.venv\\lib\\site-packages (from langchain-core<0.4.0,>=0.3.43->langchain_google_genai) (4.12.2)\n",
            "Requirement already satisfied: httpx<1,>=0.23.0 in d:\\python ml\\internship task\\ai-powered pitch analysis model using gemini api\\.venv\\lib\\site-packages (from langsmith<0.4,>=0.1.17->langchain) (0.28.1)\n",
            "Requirement already satisfied: orjson<4.0.0,>=3.9.14 in d:\\python ml\\internship task\\ai-powered pitch analysis model using gemini api\\.venv\\lib\\site-packages (from langsmith<0.4,>=0.1.17->langchain) (3.10.15)\n",
            "Requirement already satisfied: requests-toolbelt<2.0.0,>=1.0.0 in d:\\python ml\\internship task\\ai-powered pitch analysis model using gemini api\\.venv\\lib\\site-packages (from langsmith<0.4,>=0.1.17->langchain) (1.0.0)\n",
            "Requirement already satisfied: zstandard<0.24.0,>=0.23.0 in d:\\python ml\\internship task\\ai-powered pitch analysis model using gemini api\\.venv\\lib\\site-packages (from langsmith<0.4,>=0.1.17->langchain) (0.23.0)\n",
            "Requirement already satisfied: annotated-types>=0.6.0 in d:\\python ml\\internship task\\ai-powered pitch analysis model using gemini api\\.venv\\lib\\site-packages (from pydantic<3,>=2->langchain_google_genai) (0.7.0)\n",
            "Requirement already satisfied: pydantic-core==2.27.2 in d:\\python ml\\internship task\\ai-powered pitch analysis model using gemini api\\.venv\\lib\\site-packages (from pydantic<3,>=2->langchain_google_genai) (2.27.2)\n",
            "Requirement already satisfied: charset-normalizer<4,>=2 in d:\\python ml\\internship task\\ai-powered pitch analysis model using gemini api\\.venv\\lib\\site-packages (from requests<3,>=2->langchain) (3.4.1)\n",
            "Requirement already satisfied: idna<4,>=2.5 in d:\\python ml\\internship task\\ai-powered pitch analysis model using gemini api\\.venv\\lib\\site-packages (from requests<3,>=2->langchain) (3.10)\n",
            "Requirement already satisfied: urllib3<3,>=1.21.1 in d:\\python ml\\internship task\\ai-powered pitch analysis model using gemini api\\.venv\\lib\\site-packages (from requests<3,>=2->langchain) (2.3.0)\n",
            "Requirement already satisfied: certifi>=2017.4.17 in d:\\python ml\\internship task\\ai-powered pitch analysis model using gemini api\\.venv\\lib\\site-packages (from requests<3,>=2->langchain) (2025.1.31)\n",
            "Collecting greenlet!=0.4.17 (from SQLAlchemy<3,>=1.4->langchain)\n",
            "  Downloading greenlet-3.1.1-cp312-cp312-win_amd64.whl.metadata (3.9 kB)\n",
            "Requirement already satisfied: googleapis-common-protos<2.0.0,>=1.56.2 in d:\\python ml\\internship task\\ai-powered pitch analysis model using gemini api\\.venv\\lib\\site-packages (from google-api-core!=2.0.*,!=2.1.*,!=2.10.*,!=2.2.*,!=2.3.*,!=2.4.*,!=2.5.*,!=2.6.*,!=2.7.*,!=2.8.*,!=2.9.*,<3.0.0,>=1.34.1->google-api-core[grpc]!=2.0.*,!=2.1.*,!=2.10.*,!=2.2.*,!=2.3.*,!=2.4.*,!=2.5.*,!=2.6.*,!=2.7.*,!=2.8.*,!=2.9.*,<3.0.0,>=1.34.1->google-ai-generativelanguage<0.7.0,>=0.6.16->langchain_google_genai) (1.69.2)\n",
            "Requirement already satisfied: grpcio<2.0dev,>=1.33.2 in d:\\python ml\\internship task\\ai-powered pitch analysis model using gemini api\\.venv\\lib\\site-packages (from google-api-core[grpc]!=2.0.*,!=2.1.*,!=2.10.*,!=2.2.*,!=2.3.*,!=2.4.*,!=2.5.*,!=2.6.*,!=2.7.*,!=2.8.*,!=2.9.*,<3.0.0,>=1.34.1->google-ai-generativelanguage<0.7.0,>=0.6.16->langchain_google_genai) (1.71.0)\n",
            "Requirement already satisfied: grpcio-status<2.0.dev0,>=1.33.2 in d:\\python ml\\internship task\\ai-powered pitch analysis model using gemini api\\.venv\\lib\\site-packages (from google-api-core[grpc]!=2.0.*,!=2.1.*,!=2.10.*,!=2.2.*,!=2.3.*,!=2.4.*,!=2.5.*,!=2.6.*,!=2.7.*,!=2.8.*,!=2.9.*,<3.0.0,>=1.34.1->google-ai-generativelanguage<0.7.0,>=0.6.16->langchain_google_genai) (1.71.0)\n",
            "Requirement already satisfied: cachetools<6.0,>=2.0.0 in d:\\python ml\\internship task\\ai-powered pitch analysis model using gemini api\\.venv\\lib\\site-packages (from google-auth!=2.24.0,!=2.25.0,<3.0.0,>=2.14.1->google-ai-generativelanguage<0.7.0,>=0.6.16->langchain_google_genai) (5.5.2)\n",
            "Requirement already satisfied: pyasn1-modules>=0.2.1 in d:\\python ml\\internship task\\ai-powered pitch analysis model using gemini api\\.venv\\lib\\site-packages (from google-auth!=2.24.0,!=2.25.0,<3.0.0,>=2.14.1->google-ai-generativelanguage<0.7.0,>=0.6.16->langchain_google_genai) (0.4.1)\n",
            "Requirement already satisfied: rsa<5,>=3.1.4 in d:\\python ml\\internship task\\ai-powered pitch analysis model using gemini api\\.venv\\lib\\site-packages (from google-auth!=2.24.0,!=2.25.0,<3.0.0,>=2.14.1->google-ai-generativelanguage<0.7.0,>=0.6.16->langchain_google_genai) (4.9)\n",
            "Requirement already satisfied: anyio in d:\\python ml\\internship task\\ai-powered pitch analysis model using gemini api\\.venv\\lib\\site-packages (from httpx<1,>=0.23.0->langsmith<0.4,>=0.1.17->langchain) (4.9.0)\n",
            "Requirement already satisfied: httpcore==1.* in d:\\python ml\\internship task\\ai-powered pitch analysis model using gemini api\\.venv\\lib\\site-packages (from httpx<1,>=0.23.0->langsmith<0.4,>=0.1.17->langchain) (1.0.7)\n",
            "Requirement already satisfied: h11<0.15,>=0.13 in d:\\python ml\\internship task\\ai-powered pitch analysis model using gemini api\\.venv\\lib\\site-packages (from httpcore==1.*->httpx<1,>=0.23.0->langsmith<0.4,>=0.1.17->langchain) (0.14.0)\n",
            "Requirement already satisfied: jsonpointer>=1.9 in d:\\python ml\\internship task\\ai-powered pitch analysis model using gemini api\\.venv\\lib\\site-packages (from jsonpatch<2.0,>=1.33->langchain-core<0.4.0,>=0.3.43->langchain_google_genai) (3.0.0)\n",
            "Requirement already satisfied: pyasn1<0.7.0,>=0.4.6 in d:\\python ml\\internship task\\ai-powered pitch analysis model using gemini api\\.venv\\lib\\site-packages (from pyasn1-modules>=0.2.1->google-auth!=2.24.0,!=2.25.0,<3.0.0,>=2.14.1->google-ai-generativelanguage<0.7.0,>=0.6.16->langchain_google_genai) (0.6.1)\n",
            "Requirement already satisfied: sniffio>=1.1 in d:\\python ml\\internship task\\ai-powered pitch analysis model using gemini api\\.venv\\lib\\site-packages (from anyio->httpx<1,>=0.23.0->langsmith<0.4,>=0.1.17->langchain) (1.3.1)\n",
            "Downloading langchain-0.3.21-py3-none-any.whl (1.0 MB)\n",
            "   ---------------------------------------- 0.0/1.0 MB ? eta -:--:--\n",
            "   ------------------------------- -------- 0.8/1.0 MB 5.6 MB/s eta 0:00:01\n",
            "   ---------------------------------------- 1.0/1.0 MB 4.8 MB/s eta 0:00:00\n",
            "Downloading langchain_text_splitters-0.3.7-py3-none-any.whl (32 kB)\n",
            "Downloading sqlalchemy-2.0.39-cp312-cp312-win_amd64.whl (2.1 MB)\n",
            "   ---------------------------------------- 0.0/2.1 MB ? eta -:--:--\n",
            "   ----------------------------- ---------- 1.6/2.1 MB 7.6 MB/s eta 0:00:01\n",
            "   ---------------------------------------- 2.1/2.1 MB 7.9 MB/s eta 0:00:00\n",
            "Downloading greenlet-3.1.1-cp312-cp312-win_amd64.whl (299 kB)\n",
            "Installing collected packages: greenlet, SQLAlchemy, langchain-text-splitters, langchain\n",
            "Successfully installed SQLAlchemy-2.0.39 greenlet-3.1.1 langchain-0.3.21 langchain-text-splitters-0.3.7\n",
            "Note: you may need to restart the kernel to use updated packages.\n"
          ]
        }
      ],
      "source": [
        "%pip install flask flask-cors langchain_google_genai PyMuPDF werkzeug langchain"
      ]
    },
    {
      "cell_type": "code",
      "execution_count": 4,
      "metadata": {
        "id": "8dz225bOdBdm"
      },
      "outputs": [],
      "source": [
        "import json\n",
        "import re\n",
        "import fitz  # PyMuPDF\n",
        "import os\n",
        "import getpass\n",
        "from flask import Flask, request, jsonify, render_template\n",
        "from flask_cors import CORS\n",
        "from werkzeug.utils import secure_filename\n",
        "from langchain_google_genai import GoogleGenerativeAI\n",
        "from langchain.prompts import PromptTemplate\n",
        "from langchain.chains import LLMChain\n",
        "# from pyngrok import ngrok, conf  # Ngrok for Colab"
      ]
    },
    {
      "cell_type": "code",
      "execution_count": null,
      "metadata": {
        "colab": {
          "base_uri": "https://localhost:8080/"
        },
        "id": "6pEib1VrdxnP",
        "outputId": "0b94ac5f-347c-49d0-d938-3520be50220d"
      },
      "outputs": [
        {
          "name": "stdout",
          "output_type": "stream",
          "text": [
            "Enter your ngrok auth token: ··········\n",
            "Enter your Gemini API Key: ··········\n"
          ]
        }
      ],
      "source": [
        "# ✅ Securely get Ngrok Token & Gemini API Key\n",
        "# conf.get_default().auth_token = getpass.getpass(\"Enter your ngrok auth token: \")\n",
        "gemini_api_key = getpass.getpass(\"Enter your Gemini API Key: \")\n"
      ]
    },
    {
      "cell_type": "code",
      "execution_count": 50,
      "metadata": {
        "colab": {
          "base_uri": "https://localhost:8080/"
        },
        "id": "MWbU6joOeHr-",
        "outputId": "f5da1d76-1264-4224-a8ae-a0868898858b"
      },
      "outputs": [
        {
          "data": {
            "text/plain": [
              "<flask_cors.extension.CORS at 0x7a2c9670dd10>"
            ]
          },
          "execution_count": 50,
          "metadata": {},
          "output_type": "execute_result"
        }
      ],
      "source": [
        "# ✅ Initialize Flask App\n",
        "app = Flask(__name__, template_folder=\"templates\")\n",
        "CORS(app)"
      ]
    },
    {
      "cell_type": "code",
      "execution_count": 51,
      "metadata": {
        "id": "2fm0GnC7eKdR"
      },
      "outputs": [],
      "source": [
        "# ✅ Define File Upload Directory\n",
        "UPLOAD_FOLDER = os.path.join(os.getcwd(), \"uploads\")\n",
        "os.makedirs(UPLOAD_FOLDER, exist_ok=True)  # Create the folder if it doesn't exist\n",
        "app.config[\"UPLOAD_FOLDER\"] = UPLOAD_FOLDER  # ✅ Store it in Flask config"
      ]
    },
    {
      "cell_type": "code",
      "execution_count": 52,
      "metadata": {
        "id": "Ma3larTXeN9Z"
      },
      "outputs": [],
      "source": [
        "# ✅ Load Gemini Model using LangChain\n",
        "llm = GoogleGenerativeAI(model=\"gemini-2.0-flash-thinking-exp-01-21\", google_api_key=gemini_api_key)"
      ]
    },
    {
      "cell_type": "code",
      "execution_count": 53,
      "metadata": {
        "id": "VXk0OEt8eOxN"
      },
      "outputs": [],
      "source": [
        "prompt_template = PromptTemplate(\n",
        "    input_variables=[\"pitch_text\"],\n",
        "    template=\"\"\"\n",
        "    You are an AI assistant specializing in analyzing startup pitch decks.\n",
        "\n",
        "    **Startup Pitch Deck Content:**\n",
        "    {pitch_text}\n",
        "\n",
        "    **Your Task:**\n",
        "    - Assign an **Overall Pitch Score (0-100)** based on clarity, structure, and business viability.\n",
        "    - Identify **Strengths** (What is well explained?).\n",
        "    - Identify **Weaknesses** (What is missing or unclear?).\n",
        "    - Suggest **Improvements** (How can the pitch be improved?).\n",
        "\n",
        "    **Return ONLY in this strict JSON format (DO NOT include extra text):**\n",
        "    ```json\n",
        "    {{\n",
        "        \"Overall Pitch Score\": <score>,\n",
        "        \"Strengths\": \"<summary>\",\n",
        "        \"Weaknesses\": \"<summary>\",\n",
        "        \"Improvement Suggestions\": \"<summary>\"\n",
        "    }}\n",
        "    ```\n",
        "    \"\"\"\n",
        ")\n"
      ]
    },
    {
      "cell_type": "code",
      "execution_count": 54,
      "metadata": {
        "id": "27_S1vRSedcP"
      },
      "outputs": [],
      "source": [
        "# ✅ Extract Text from PDFs\n",
        "def extract_text_from_pdf(pdf_path):\n",
        "    \"\"\"Extracts text from a given PDF file.\"\"\"\n",
        "    doc = fitz.open(pdf_path)\n",
        "    text = \"\"\n",
        "    for page in doc:\n",
        "        text += page.get_text(\"text\") + \"\\n\"\n",
        "    return text.strip()"
      ]
    },
    {
      "cell_type": "code",
      "execution_count": 55,
      "metadata": {
        "id": "6A3PYS3Ik6oE"
      },
      "outputs": [],
      "source": [
        "def extract_json(response_text):\n",
        "    \"\"\"Extracts valid JSON from Gemini's response using regex.\"\"\"\n",
        "    try:\n",
        "        return json.loads(response_text)  # ✅ Directly parse JSON if possible\n",
        "    except json.JSONDecodeError:\n",
        "        try:\n",
        "            json_match = re.search(r\"\\{.*\\}\", response_text, re.DOTALL)  # ✅ Extract JSON using regex\n",
        "            if json_match:\n",
        "                return json.loads(json_match.group())  # ✅ Convert extracted JSON\n",
        "        except json.JSONDecodeError:\n",
        "            pass\n",
        "    return {\"error\": \"Invalid JSON response from Gemini\"}  # ✅ Return error if parsing fails"
      ]
    },
    {
      "cell_type": "code",
      "execution_count": 56,
      "metadata": {
        "id": "gdFb4I1YegoH"
      },
      "outputs": [],
      "source": [
        "\n",
        "def analyze_pitch(pitch_text):\n",
        "    \"\"\"Uses LangChain with Gemini API to analyze the pitch.\"\"\"\n",
        "    chain = LLMChain(llm=llm, prompt=prompt_template)\n",
        "    response = chain.run(pitch_text=pitch_text)  # ✅ Gemini API call\n",
        "\n",
        "    # ✅ Extract JSON correctly\n",
        "    return extract_json(str(response))  # Convert to string before parsing\n"
      ]
    },
    {
      "cell_type": "code",
      "execution_count": 57,
      "metadata": {
        "id": "Qdl8sOFDejQF"
      },
      "outputs": [],
      "source": [
        "# ✅ Home Route\n",
        "@app.route(\"/\")\n",
        "def home():\n",
        "    return render_template(\"index.html\")"
      ]
    },
    {
      "cell_type": "code",
      "execution_count": 58,
      "metadata": {
        "id": "EQJcofRIen8Y"
      },
      "outputs": [],
      "source": [
        "# ✅ Flask Route: Upload & Analyze Pitch Deck\n",
        "@app.route(\"/upload\", methods=[\"POST\"])\n",
        "def upload_pdf():\n",
        "    if \"file\" not in request.files:\n",
        "        return jsonify({\"error\": \"No file uploaded\"}), 400\n",
        "\n",
        "    file = request.files[\"file\"]\n",
        "    if file.filename == \"\":\n",
        "        return jsonify({\"error\": \"No selected file\"}), 400\n",
        "\n",
        "    if file:\n",
        "        filename = secure_filename(file.filename)\n",
        "        file_path = os.path.join(app.config[\"UPLOAD_FOLDER\"], filename)\n",
        "        file.save(file_path)\n",
        "\n",
        "        # ✅ Extract text & analyze\n",
        "        pitch_text = extract_text_from_pdf(file_path)\n",
        "        print(pitch_text)\n",
        "        analysis = analyze_pitch(pitch_text)\n",
        "        print(analysis)\n",
        "\n",
        "        return jsonify(analysis)\n"
      ]
    },
    {
      "cell_type": "code",
      "execution_count": null,
      "metadata": {
        "colab": {
          "base_uri": "https://localhost:8080/"
        },
        "id": "YEWt8TY0esc7",
        "outputId": "03ec7468-0d42-4c90-b34c-fb82e7caad5f"
      },
      "outputs": [
        {
          "name": "stdout",
          "output_type": "stream",
          "text": [
            "🚀 Public URL: https://1669-34-82-249-86.ngrok-free.app\n",
            " * Serving Flask app '__main__'\n",
            " * Debug mode: off\n"
          ]
        },
        {
          "name": "stderr",
          "output_type": "stream",
          "text": [
            "INFO:werkzeug:\u001b[31m\u001b[1mWARNING: This is a development server. Do not use it in a production deployment. Use a production WSGI server instead.\u001b[0m\n",
            " * Running on http://127.0.0.1:5000\n",
            "INFO:werkzeug:\u001b[33mPress CTRL+C to quit\u001b[0m\n",
            "INFO:werkzeug:127.0.0.1 - - [21/Mar/2025 12:09:13] \"GET / HTTP/1.1\" 200 -\n",
            "INFO:werkzeug:127.0.0.1 - - [21/Mar/2025 12:09:14] \"\u001b[33mGET /favicon.ico HTTP/1.1\u001b[0m\" 404 -\n"
          ]
        },
        {
          "name": "stdout",
          "output_type": "stream",
          "text": [
            "Pitch Deck Example\n",
            "\n",
            "GOAL\n",
            "• The goal of your pitch deck is to give a snapshot of \n",
            "your investment opportunity, taking into consideration \n",
            "your impact, growth potential, viability, and the ability \n",
            "of your team to execute your plan. \n",
            "• Think of this as the most compelling elements of your \n",
            "executive summary presented visually and verbally.\n",
            "\n",
            "Housekeeping\n",
            "• Keep in mind that you will be allotted 10 minutes or \n",
            "less to present and may need to adjust the content \n",
            "and number of slides accordingly. \n",
            "• Ensure slides are not text or data heavy and use at \n",
            "least a 30pt font.\n",
            "\n",
            "TAGLINE: Define your \n",
            "venture with a short \n",
            "declarative sentence, \n",
            "getting to the heart of \n",
            "your venture’s unique \n",
            "advantage. \n",
            "DATE: \n",
            "PRESENTER NAME:\n",
            "Cover page\n",
            "\n",
            "Problem\n",
            "“The goal is to get everyone nodding and buying in.” \n",
            "- Guy Kawasaki, The Art of the Start\n",
            "• Describe the pain of the customer (or the customer’s \n",
            "customer) \n",
            "• Outline how the customer addresses the issue today \n",
            "and why current solutions don’t work. \n",
            "• Is it costing the customer time, money, frustration… \n",
            "Define the pain point. ($ amount, time lost, etc.)\n",
            "\n",
            "Solution\n",
            "• Demonstrate your company’s value proposition to \n",
            "make the customer’s life better \n",
            "• Provide cases, customer insights, case studies \n",
            "• Show scalability\n",
            "\n",
            "Market Size/Dynamic\n",
            "“Good analysis will therefore involve careful segmentation of the true addressable market and \n",
            "thoughtful descriptions of how those customers will pay for the solution over time to build up a \n",
            "picture of a realistic market size.” - Michael Skok\n",
            "• Identify/profile the customer you cater to\n",
            "• Provide bottoms-up market sizing: the number of potential \n",
            "customers and the price of the product sold into those \n",
            "customers. * The government census data is a good \n",
            "resource for this analysis.\n",
            "• Changing trends, new technologies, and forces driving \n",
            "this segment\n",
            "\n",
            "Competition\n",
            "• Give a list of direct competitors, substitutes, or those \n",
            "about to emerge \n",
            "• Why hasn’t anyone done this before? What are the \n",
            "barriers to entry that keep someone from doing this \n",
            "and/or what would keep a competitor from imitating \n",
            "your product or entering your market? \n",
            "• Highlight your venture’s competitive advantages\n",
            "\n",
            "Go-to-Market Strategy\n",
            "Tip: What are you selling? \n",
            "Who are you selling it to? \n",
            "How will you reach your target market? \n",
            "Where will you promote your product?\n",
            "• What is your plan for execution? \n",
            "• Summarize sales, marketing, and partnership plans\n",
            "\n",
            "Product\n",
            "• Product line-up (form factor, functionality, features, \n",
            "architecture, intellectual property) \n",
            "• Development roadmap\n",
            "\n",
            "Business Model\n",
            "“Explain how you make money –who pays you, your channels of distribution, and your gross \n",
            "margins.” - Guy Kawasaki, The Art of the Start\n",
            "• Revenue model \n",
            "• Pricing \n",
            "• Average account size and/or lifetime value \n",
            "• Sales & distribution model \n",
            "• Customer/pipeline list\n",
            "\n",
            "Key Milestones\n",
            "• Outline current milestones achieved and future \n",
            "milestones. \n",
            "• Customer research \n",
            "• MVP development \n",
            "• Product launch \n",
            "• Beta users \n",
            "• Market testing \n",
            "• Marketing role out/CAC\n",
            "\n",
            "Financial Snapshot\n",
            "Tip: “Define assumptions so it’s clear that you’ve developed a realistic model.”\n",
            "• Provide a 3 year forecast, including annual revenue, \n",
            "net income, and key metrics (customers and \n",
            "conversion rates). \n",
            "• Prepare supplemental information such as \n",
            "• Product launch \n",
            "• Go-to-market execution \n",
            "• Other?\n",
            "\n",
            "Capital Requirements\n",
            "Tip: How much capital will you need prior to becoming cash flow positive and how will your funds be \n",
            "applied? You need to explain the minimum required equity you need to reach your next key \n",
            "milestone.\n",
            "• Customer research- focus groups, surveys \n",
            "• MVP development \n",
            "• Product launch \n",
            "• Go-to-market execution \n",
            "• Other?\n",
            "\n",
            "Team\n",
            "Tip: You need to convey that you are the team to execute this venture!\n",
            "• Founders & Management \n",
            "• What key skills or experience that relate to the product \n",
            "or leading of the company \n",
            "• Board of Directors/Board of Advisors \n",
            "• Highlight spheres of influence\n",
            "\n",
            "Appendix\n",
            "Additional slides that can be used for follow-up questions.\n"
          ]
        },
        {
          "name": "stderr",
          "output_type": "stream",
          "text": [
            "INFO:werkzeug:127.0.0.1 - - [21/Mar/2025 12:09:32] \"POST /upload HTTP/1.1\" 200 -\n"
          ]
        },
        {
          "name": "stdout",
          "output_type": "stream",
          "text": [
            "{'Overall Pitch Score': 85, 'Strengths': 'The pitch deck template provides a well-structured and comprehensive outline covering all essential sections for a startup pitch. It logically progresses from problem to solution, market, business model, and team. The inclusion of expert quotes and tips throughout the template adds credibility and practical guidance. The emphasis on customer pain, market sizing, competitive advantage, and financial viability is strong. It encourages a focus on key metrics and realistic assumptions.', 'Weaknesses': \"While comprehensive, the template is somewhat generic and lacks specific guidance on visual presentation and storytelling. Some sections could benefit from more detailed prompts to ensure deeper thinking (e.g., 'Go-to-Market Strategy' is broad). It doesn't explicitly emphasize the need for a compelling narrative or emotional connection.  The 'Financial Snapshot' could be more specific about key financial metrics beyond revenue and net income. There's no guidance on slide count for a 10-minute presentation.\", 'Improvement Suggestions': \"Enhance visual storytelling guidance by suggesting incorporating more visuals, charts, and less text per slide. Add more specific prompting questions within each section to guide deeper analysis and detail (e.g., in 'Go-to-Market,' ask about specific channels and customer acquisition cost).  Recommend including key financial metrics beyond revenue and net income (like CAC, LTV, burn rate). Suggest a target slide count for a 10-minute pitch.  Explicitly emphasize the importance of weaving a compelling narrative throughout the presentation to create an emotional connection and make the pitch more memorable. Consider adding a section on 'Traction' to showcase early validation or user growth.\"}\n",
            "Welcome\n",
            "AirBed&Breakfast\n",
            "Book rooms with locals, rather than hotels.\n",
            "1\n",
            "This is a PowerPoint reproduction of an early AirBnB pitch deck via Business Insider @\n",
            "http://www.businessinsider.com/airbnb-a-13-billion-dollar-startups-first-ever-pitch-deck-2011-9\n",
            "\n",
            "Problem\n",
            "2\n",
            "Price is an important concern for customers \n",
            "booking travel online.\n",
            "Hotels leave you disconnected from the city \n",
            "and its culture. \n",
            "No easy way exists to book a room with a local \n",
            "or become a host.\n",
            "Template by PitchDeckCoach.com\n",
            "\n",
            "Solution\n",
            "3\n",
            "A web platform where users can rent out their \n",
            "space to host travelers to:\n",
            "SAVE \n",
            "MONEY\n",
            "when traveling\n",
            "MAKE\n",
            "MONEY\n",
            "when hosting\n",
            "SHARE\n",
            "CULTURE\n",
            "local connection to the city\n",
            "Template by PitchDeckCoach.com\n",
            "\n",
            "Market Validation\n",
            "4\n",
            "630,000\n",
            "on temporary housing site \n",
            "couchsurfing.com\n",
            "17,000\n",
            "temporary housing listings on SF \n",
            "& NYC Craigslist from 07/09 – 07/16\n",
            "Template by PitchDeckCoach.com\n",
            "\n",
            "Market Size\n",
            "5\n",
            "1.9 Billion+\n",
            "TRIPS BOOKED (WORDLWIDE)\n",
            "Total Available Market\n",
            "532M\n",
            "BUDGET & ONLINE TRIPS\n",
            "Serviceable Available Market\n",
            "10.6M\n",
            "TRIPS W/AB&B\n",
            "Market Share\n",
            "Template by PitchDeckCoach.com\n",
            "\n",
            "Product\n",
            "6\n",
            "REVIEW LISTINGS\n",
            "Template by PitchDeckCoach.com\n",
            "SEARCH BY CITY\n",
            "BOOK IT!\n",
            "\n",
            "Business Model\n",
            "7\n",
            "Template by PitchDeckCoach.com\n",
            "We take a 10% commission on each transaction.\n",
            "TRIPS W/AB&B\n",
            "Share of Market\n",
            "AVG FEE\n",
            "$70/night @ 3 nights\n",
            "REVENUE\n",
            "2008-2011\n",
            "10.6M\n",
            "$20\n",
            "$200M\n",
            "\n",
            "Market Adoption\n",
            "8\n",
            "Template by PitchDeckCoach.com\n",
            "EVENTS\n",
            "target events monthly\n",
            "PARTNERSHIPS\n",
            "cheap/alternative travel\n",
            "CRAIGSLIST\n",
            "dual posting feature\n",
            "Octoberfest (6M)\n",
            "Cebit (700,000)\n",
            "Summerfest (1M)\n",
            "Eurocup(3M+)\n",
            "Mardi Gras (800,000)\n",
            "with listing widget\n",
            "Widget screenshot\n",
            "AirBnB \n",
            "screenshot\n",
            "Craigslist\n",
            "screenshot\n",
            "\n",
            "Competition\n",
            "9\n",
            "Template by PitchDeckCoach.com\n",
            "AFFORDABLE\n",
            "EXPENSIVE\n",
            "ONLINE TRANSACTION\n",
            "OFFLINE TRANSACTION\n",
            "\n",
            "Competitive Advantages\n",
            "10\n",
            "Template by PitchDeckCoach.com\n",
            "1st TO MARKET\n",
            "HOST INCENTIVE\n",
            "Lorem ipsum dolor sit amet, \n",
            "consectetur adipiscing elit. \n",
            "Integer nec odio. Praesent \n",
            "libero. \n",
            "Lorem ipsum dolor sit amet, \n",
            "consectetur adipiscing elit. \n",
            "Integer nec odio. Praesent \n",
            "libero. \n",
            "Lorem ipsum dolor sit amet, \n",
            "consectetur adipiscing elit. \n",
            "Integer nec odio. Praesent \n",
            "libero. \n",
            "LIST ONCE\n",
            "EASE OF USE\n",
            "PROFILES\n",
            "Lorem ipsum dolor sit amet, \n",
            "consectetur adipiscing elit. \n",
            "Integer nec odio. Praesent \n",
            "libero. \n",
            "Lorem ipsum dolor sit amet, \n",
            "consectetur adipiscing elit. \n",
            "Integer nec odio. Praesent \n",
            "libero. \n",
            "Lorem ipsum dolor sit amet, \n",
            "consectetur adipiscing elit. \n",
            "Integer nec odio. Praesent \n",
            "libero. \n",
            "DESIGN & BRAND\n",
            "\n",
            "If you liked this, you’ll love our Pitch \n",
            "Deck Coach template. Click below.\n",
            "http://www.slideshare.net/PitchDeckCoach/t\n",
            "he-ultimate-pitch-deck-template-by-\n",
            "pitchdeckcoach\n",
            "\n",
            "Did you enjoy this deck?\n",
            "Read my blog post on \n",
            "“The Pitch Deck”\n",
            "http://pitchdeckcoach.com/pitch-deck\n"
          ]
        },
        {
          "name": "stderr",
          "output_type": "stream",
          "text": [
            "INFO:werkzeug:127.0.0.1 - - [21/Mar/2025 12:10:07] \"POST /upload HTTP/1.1\" 200 -\n"
          ]
        },
        {
          "name": "stdout",
          "output_type": "stream",
          "text": [
            "{'Overall Pitch Score': 75, 'Strengths': \"Clearly articulates the problem and solution, supported by market validation data from Couchsurfing and Craigslist.  The business model is simple and easy to understand (10% commission). The deck effectively highlights key competitive advantages like 'First to Market' and 'Ease of Use'. Market size is quantified, demonstrating a large potential opportunity.\", 'Weaknesses': \"The 'Product' slide is extremely basic and lacks detail about features and user experience. There are inconsistencies in the 'Business Model' slide regarding revenue calculations (AVG FEE and REVENUE figures are misaligned). The 'Competitive Advantages' slide contains unprofessional 'Lorem Ipsum' filler text instead of detailed explanations. Market size definitions (TAM, SAM, Market Share) could be clearer, and the 'Market Share' calculation label 'TRIPS W/AB&B' is confusing.  'Market Adoption' strategies are listed but lack depth and specific execution plans.\", 'Improvement Suggestions': \"Enhance the 'Product' slide with more detail about key features, user interface, and user flow to showcase the platform's value proposition. Correct the inconsistencies in the 'Business Model' slide calculations to ensure accuracy and credibility. Replace the 'Lorem Ipsum' text in 'Competitive Advantages' with concrete explanations of each advantage and how they will be leveraged. Clearly define TAM, SAM, and Market Share on the 'Market Size' slide and refine the 'Market Share' label for better understanding. Elaborate on 'Market Adoption' strategies by providing more specific tactics and timelines for execution. Consider adding a slide on the team and financial projections for a more comprehensive pitch.\"}\n"
          ]
        }
      ],
      "source": [
        "# ✅ Run Flask with Ngrok in Colab\n",
        "if __name__ == \"__main__\":\n",
        "    port = 5000\n",
        "    # public_url = ngrok.connect(port).public_url\n",
        "    # print(f\"🚀 Public URL: {public_url}\")\n",
        "    app.run(port=port)"
      ]
    }
  ],
  "metadata": {
    "colab": {
      "provenance": []
    },
    "kernelspec": {
      "display_name": ".venv",
      "language": "python",
      "name": "python3"
    },
    "language_info": {
      "codemirror_mode": {
        "name": "ipython",
        "version": 3
      },
      "file_extension": ".py",
      "mimetype": "text/x-python",
      "name": "python",
      "nbconvert_exporter": "python",
      "pygments_lexer": "ipython3",
      "version": "3.12.8"
    }
  },
  "nbformat": 4,
  "nbformat_minor": 0
}
